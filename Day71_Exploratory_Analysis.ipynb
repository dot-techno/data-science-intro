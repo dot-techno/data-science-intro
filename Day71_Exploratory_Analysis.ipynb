{
 "cells": [
  {
   "cell_type": "code",
   "execution_count": 2,
   "metadata": {},
   "outputs": [],
   "source": [
    "import pandas as pd\n"
   ]
  },
  {
   "cell_type": "code",
   "execution_count": 9,
   "metadata": {},
   "outputs": [
    {
     "data": {
      "text/html": [
       "<div>\n",
       "<style scoped>\n",
       "    .dataframe tbody tr th:only-of-type {\n",
       "        vertical-align: middle;\n",
       "    }\n",
       "\n",
       "    .dataframe tbody tr th {\n",
       "        vertical-align: top;\n",
       "    }\n",
       "\n",
       "    .dataframe thead th {\n",
       "        text-align: right;\n",
       "    }\n",
       "</style>\n",
       "<table border=\"1\" class=\"dataframe\">\n",
       "  <thead>\n",
       "    <tr style=\"text-align: right;\">\n",
       "      <th></th>\n",
       "      <th>Undergraduate Major</th>\n",
       "      <th>Starting Median Salary</th>\n",
       "      <th>Mid-Career Median Salary</th>\n",
       "      <th>Mid-Career 10th Percentile Salary</th>\n",
       "      <th>Mid-Career 90th Percentile Salary</th>\n",
       "      <th>Group</th>\n",
       "    </tr>\n",
       "  </thead>\n",
       "  <tbody>\n",
       "    <tr>\n",
       "      <th>0</th>\n",
       "      <td>Accounting</td>\n",
       "      <td>46000.0</td>\n",
       "      <td>77100.0</td>\n",
       "      <td>42200.0</td>\n",
       "      <td>152000.0</td>\n",
       "      <td>Business</td>\n",
       "    </tr>\n",
       "    <tr>\n",
       "      <th>1</th>\n",
       "      <td>Aerospace Engineering</td>\n",
       "      <td>57700.0</td>\n",
       "      <td>101000.0</td>\n",
       "      <td>64300.0</td>\n",
       "      <td>161000.0</td>\n",
       "      <td>STEM</td>\n",
       "    </tr>\n",
       "    <tr>\n",
       "      <th>2</th>\n",
       "      <td>Agriculture</td>\n",
       "      <td>42600.0</td>\n",
       "      <td>71900.0</td>\n",
       "      <td>36300.0</td>\n",
       "      <td>150000.0</td>\n",
       "      <td>Business</td>\n",
       "    </tr>\n",
       "    <tr>\n",
       "      <th>3</th>\n",
       "      <td>Anthropology</td>\n",
       "      <td>36800.0</td>\n",
       "      <td>61500.0</td>\n",
       "      <td>33800.0</td>\n",
       "      <td>138000.0</td>\n",
       "      <td>HASS</td>\n",
       "    </tr>\n",
       "    <tr>\n",
       "      <th>4</th>\n",
       "      <td>Architecture</td>\n",
       "      <td>41600.0</td>\n",
       "      <td>76800.0</td>\n",
       "      <td>50600.0</td>\n",
       "      <td>136000.0</td>\n",
       "      <td>Business</td>\n",
       "    </tr>\n",
       "  </tbody>\n",
       "</table>\n",
       "</div>"
      ],
      "text/plain": [
       "     Undergraduate Major  Starting Median Salary  Mid-Career Median Salary  \\\n",
       "0             Accounting                 46000.0                   77100.0   \n",
       "1  Aerospace Engineering                 57700.0                  101000.0   \n",
       "2            Agriculture                 42600.0                   71900.0   \n",
       "3           Anthropology                 36800.0                   61500.0   \n",
       "4           Architecture                 41600.0                   76800.0   \n",
       "\n",
       "   Mid-Career 10th Percentile Salary  Mid-Career 90th Percentile Salary  \\\n",
       "0                            42200.0                           152000.0   \n",
       "1                            64300.0                           161000.0   \n",
       "2                            36300.0                           150000.0   \n",
       "3                            33800.0                           138000.0   \n",
       "4                            50600.0                           136000.0   \n",
       "\n",
       "      Group  \n",
       "0  Business  \n",
       "1      STEM  \n",
       "2  Business  \n",
       "3      HASS  \n",
       "4  Business  "
      ]
     },
     "execution_count": 9,
     "metadata": {},
     "output_type": "execute_result"
    }
   ],
   "source": [
    "df = pd.read_csv(\"data/salaries_by_college_major.csv\")\n",
    "df.head()\n"
   ]
  },
  {
   "cell_type": "code",
   "execution_count": 10,
   "metadata": {},
   "outputs": [
    {
     "data": {
      "text/plain": [
       "(51, 6)"
      ]
     },
     "execution_count": 10,
     "metadata": {},
     "output_type": "execute_result"
    }
   ],
   "source": [
    "df.shape # attribute not a function so no need for parenthesis ()"
   ]
  },
  {
   "cell_type": "code",
   "execution_count": 11,
   "metadata": {},
   "outputs": [
    {
     "data": {
      "text/plain": [
       "Index(['Undergraduate Major', 'Starting Median Salary',\n",
       "       'Mid-Career Median Salary', 'Mid-Career 10th Percentile Salary',\n",
       "       'Mid-Career 90th Percentile Salary', 'Group'],\n",
       "      dtype='object')"
      ]
     },
     "execution_count": 11,
     "metadata": {},
     "output_type": "execute_result"
    }
   ],
   "source": [
    "df.columns # attribute"
   ]
  },
  {
   "attachments": {},
   "cell_type": "markdown",
   "metadata": {},
   "source": [
    "### Let's rename the columns to be code friendly\n",
    "- Replace space by _\n",
    "- Replace Percentile with prc\n",
    "- Delete seperating -"
   ]
  },
  {
   "cell_type": "code",
   "execution_count": 16,
   "metadata": {},
   "outputs": [
    {
     "data": {
      "text/html": [
       "<div>\n",
       "<style scoped>\n",
       "    .dataframe tbody tr th:only-of-type {\n",
       "        vertical-align: middle;\n",
       "    }\n",
       "\n",
       "    .dataframe tbody tr th {\n",
       "        vertical-align: top;\n",
       "    }\n",
       "\n",
       "    .dataframe thead th {\n",
       "        text-align: right;\n",
       "    }\n",
       "</style>\n",
       "<table border=\"1\" class=\"dataframe\">\n",
       "  <thead>\n",
       "    <tr style=\"text-align: right;\">\n",
       "      <th></th>\n",
       "      <th>Undergraduate_Major</th>\n",
       "      <th>Starting_Median_Salary</th>\n",
       "      <th>MidCareer_Median_Salary</th>\n",
       "      <th>MidCareer_10th_Prc_Salary</th>\n",
       "      <th>MidCareer_90th_Prc_Salary</th>\n",
       "      <th>Group</th>\n",
       "    </tr>\n",
       "  </thead>\n",
       "  <tbody>\n",
       "    <tr>\n",
       "      <th>0</th>\n",
       "      <td>Accounting</td>\n",
       "      <td>46000.0</td>\n",
       "      <td>77100.0</td>\n",
       "      <td>42200.0</td>\n",
       "      <td>152000.0</td>\n",
       "      <td>Business</td>\n",
       "    </tr>\n",
       "    <tr>\n",
       "      <th>1</th>\n",
       "      <td>Aerospace Engineering</td>\n",
       "      <td>57700.0</td>\n",
       "      <td>101000.0</td>\n",
       "      <td>64300.0</td>\n",
       "      <td>161000.0</td>\n",
       "      <td>STEM</td>\n",
       "    </tr>\n",
       "    <tr>\n",
       "      <th>2</th>\n",
       "      <td>Agriculture</td>\n",
       "      <td>42600.0</td>\n",
       "      <td>71900.0</td>\n",
       "      <td>36300.0</td>\n",
       "      <td>150000.0</td>\n",
       "      <td>Business</td>\n",
       "    </tr>\n",
       "    <tr>\n",
       "      <th>3</th>\n",
       "      <td>Anthropology</td>\n",
       "      <td>36800.0</td>\n",
       "      <td>61500.0</td>\n",
       "      <td>33800.0</td>\n",
       "      <td>138000.0</td>\n",
       "      <td>HASS</td>\n",
       "    </tr>\n",
       "    <tr>\n",
       "      <th>4</th>\n",
       "      <td>Architecture</td>\n",
       "      <td>41600.0</td>\n",
       "      <td>76800.0</td>\n",
       "      <td>50600.0</td>\n",
       "      <td>136000.0</td>\n",
       "      <td>Business</td>\n",
       "    </tr>\n",
       "  </tbody>\n",
       "</table>\n",
       "</div>"
      ],
      "text/plain": [
       "     Undergraduate_Major  Starting_Median_Salary  MidCareer_Median_Salary  \\\n",
       "0             Accounting                 46000.0                  77100.0   \n",
       "1  Aerospace Engineering                 57700.0                 101000.0   \n",
       "2            Agriculture                 42600.0                  71900.0   \n",
       "3           Anthropology                 36800.0                  61500.0   \n",
       "4           Architecture                 41600.0                  76800.0   \n",
       "\n",
       "   MidCareer_10th_Prc_Salary  MidCareer_90th_Prc_Salary     Group  \n",
       "0                    42200.0                   152000.0  Business  \n",
       "1                    64300.0                   161000.0      STEM  \n",
       "2                    36300.0                   150000.0  Business  \n",
       "3                    33800.0                   138000.0      HASS  \n",
       "4                    50600.0                   136000.0  Business  "
      ]
     },
     "execution_count": 16,
     "metadata": {},
     "output_type": "execute_result"
    }
   ],
   "source": [
    "def clean_func_name(name:str) -> str:\n",
    "    x = [\" \", \"Percentile\", \"-\"]\n",
    "    y = [\"_\", \"Prc\",\"\"]\n",
    "\n",
    "    new_name = name\n",
    "    for (s, n) in zip(x,y):\n",
    "        new_name = new_name.replace(s, n)\n",
    "    return new_name\n",
    "\n",
    "\n",
    "df.columns = list(map(clean_func_name, df.columns))\n",
    "df.head()"
   ]
  },
  {
   "attachments": {},
   "cell_type": "markdown",
   "metadata": {},
   "source": [
    "### Check for missing values"
   ]
  },
  {
   "cell_type": "code",
   "execution_count": 17,
   "metadata": {},
   "outputs": [
    {
     "data": {
      "text/plain": [
       "Undergraduate_Major          0\n",
       "Starting_Median_Salary       1\n",
       "MidCareer_Median_Salary      1\n",
       "MidCareer_10th_Prc_Salary    1\n",
       "MidCareer_90th_Prc_Salary    1\n",
       "Group                        1\n",
       "dtype: int64"
      ]
     },
     "execution_count": 17,
     "metadata": {},
     "output_type": "execute_result"
    }
   ],
   "source": [
    "df.isna().sum()"
   ]
  },
  {
   "cell_type": "code",
   "execution_count": 18,
   "metadata": {},
   "outputs": [
    {
     "data": {
      "text/html": [
       "<div>\n",
       "<style scoped>\n",
       "    .dataframe tbody tr th:only-of-type {\n",
       "        vertical-align: middle;\n",
       "    }\n",
       "\n",
       "    .dataframe tbody tr th {\n",
       "        vertical-align: top;\n",
       "    }\n",
       "\n",
       "    .dataframe thead th {\n",
       "        text-align: right;\n",
       "    }\n",
       "</style>\n",
       "<table border=\"1\" class=\"dataframe\">\n",
       "  <thead>\n",
       "    <tr style=\"text-align: right;\">\n",
       "      <th></th>\n",
       "      <th>Undergraduate_Major</th>\n",
       "      <th>Starting_Median_Salary</th>\n",
       "      <th>MidCareer_Median_Salary</th>\n",
       "      <th>MidCareer_10th_Prc_Salary</th>\n",
       "      <th>MidCareer_90th_Prc_Salary</th>\n",
       "      <th>Group</th>\n",
       "    </tr>\n",
       "  </thead>\n",
       "  <tbody>\n",
       "    <tr>\n",
       "      <th>45</th>\n",
       "      <td>Political Science</td>\n",
       "      <td>40800.0</td>\n",
       "      <td>78200.0</td>\n",
       "      <td>41200.0</td>\n",
       "      <td>168000.0</td>\n",
       "      <td>HASS</td>\n",
       "    </tr>\n",
       "    <tr>\n",
       "      <th>46</th>\n",
       "      <td>Psychology</td>\n",
       "      <td>35900.0</td>\n",
       "      <td>60400.0</td>\n",
       "      <td>31600.0</td>\n",
       "      <td>127000.0</td>\n",
       "      <td>HASS</td>\n",
       "    </tr>\n",
       "    <tr>\n",
       "      <th>47</th>\n",
       "      <td>Religion</td>\n",
       "      <td>34100.0</td>\n",
       "      <td>52000.0</td>\n",
       "      <td>29700.0</td>\n",
       "      <td>96400.0</td>\n",
       "      <td>HASS</td>\n",
       "    </tr>\n",
       "    <tr>\n",
       "      <th>48</th>\n",
       "      <td>Sociology</td>\n",
       "      <td>36500.0</td>\n",
       "      <td>58200.0</td>\n",
       "      <td>30700.0</td>\n",
       "      <td>118000.0</td>\n",
       "      <td>HASS</td>\n",
       "    </tr>\n",
       "    <tr>\n",
       "      <th>49</th>\n",
       "      <td>Spanish</td>\n",
       "      <td>34000.0</td>\n",
       "      <td>53100.0</td>\n",
       "      <td>31000.0</td>\n",
       "      <td>96400.0</td>\n",
       "      <td>HASS</td>\n",
       "    </tr>\n",
       "  </tbody>\n",
       "</table>\n",
       "</div>"
      ],
      "text/plain": [
       "   Undergraduate_Major  Starting_Median_Salary  MidCareer_Median_Salary  \\\n",
       "45   Political Science                 40800.0                  78200.0   \n",
       "46          Psychology                 35900.0                  60400.0   \n",
       "47            Religion                 34100.0                  52000.0   \n",
       "48           Sociology                 36500.0                  58200.0   \n",
       "49             Spanish                 34000.0                  53100.0   \n",
       "\n",
       "    MidCareer_10th_Prc_Salary  MidCareer_90th_Prc_Salary Group  \n",
       "45                    41200.0                   168000.0  HASS  \n",
       "46                    31600.0                   127000.0  HASS  \n",
       "47                    29700.0                    96400.0  HASS  \n",
       "48                    30700.0                   118000.0  HASS  \n",
       "49                    31000.0                    96400.0  HASS  "
      ]
     },
     "execution_count": 18,
     "metadata": {},
     "output_type": "execute_result"
    }
   ],
   "source": [
    "# only one row has NAs so drop that row with dropna()\n",
    "df = df.dropna()\n",
    "df.tail()"
   ]
  },
  {
   "attachments": {},
   "cell_type": "markdown",
   "metadata": {},
   "source": [
    "### Check for duplicated rows (remove them if found)\n",
    "\n",
    "```df.duplicated()``` only returns the extra occurences of rows (and not the first original one). This makes it easy to drop them using:<br>\n",
    "```df = df.loc[~df.duplicated()]```\n",
    "\n",
    "Can also pass list of column names to duplicated() if we only want to detect duplicate values on some columns.\n",
    "E.g.<br>\n",
    "```df = df.loc[~df.duplicated(subset=['Coaster_Name','Location','Opening_Date'])].reset_index(drop=True).copy()```\n",
    "\n",
    "```.reset_index``` generates a new index, ```drop=True``` tells it to not save the old index in a column. \n",
    "\n",
    "Also can do:<br>\n",
    "```df.drop_duplicates(subset=['brand'])```<br>\n",
    "or<br>\n",
    "```df.drop_duplicates(subset=['brand', 'style'], keep='last')```\n"
   ]
  },
  {
   "cell_type": "code",
   "execution_count": 21,
   "metadata": {},
   "outputs": [
    {
     "data": {
      "text/plain": [
       "(50, 6)"
      ]
     },
     "execution_count": 21,
     "metadata": {},
     "output_type": "execute_result"
    }
   ],
   "source": [
    "df.loc[df.duplicated()]\n",
    "# no duplicates found.\n",
    "\n",
    "df = df.drop_duplicates()\n",
    "df.shape"
   ]
  },
  {
   "attachments": {},
   "cell_type": "markdown",
   "metadata": {},
   "source": [
    "### Descriptive statistics\n",
    "Generate descriptive statistics, correlations and basic plots"
   ]
  },
  {
   "cell_type": "code",
   "execution_count": 25,
   "metadata": {},
   "outputs": [
    {
     "data": {
      "text/plain": [
       "Index(['Undergraduate_Major', 'Starting_Median_Salary',\n",
       "       'MidCareer_Median_Salary', 'MidCareer_10th_Prc_Salary',\n",
       "       'MidCareer_90th_Prc_Salary', 'Group'],\n",
       "      dtype='object')"
      ]
     },
     "execution_count": 25,
     "metadata": {},
     "output_type": "execute_result"
    }
   ],
   "source": [
    "df.columns"
   ]
  },
  {
   "cell_type": "code",
   "execution_count": 24,
   "metadata": {},
   "outputs": [
    {
     "data": {
      "text/plain": [
       "Group\n",
       "HASS        22\n",
       "STEM        16\n",
       "Business    12\n",
       "Name: count, dtype: int64"
      ]
     },
     "execution_count": 24,
     "metadata": {},
     "output_type": "execute_result"
    }
   ],
   "source": [
    "# value counts for categorical column\n",
    "df['Group'].value_counts()"
   ]
  },
  {
   "cell_type": "code",
   "execution_count": 27,
   "metadata": {},
   "outputs": [
    {
     "data": {
      "text/html": [
       "<div>\n",
       "<style scoped>\n",
       "    .dataframe tbody tr th:only-of-type {\n",
       "        vertical-align: middle;\n",
       "    }\n",
       "\n",
       "    .dataframe tbody tr th {\n",
       "        vertical-align: top;\n",
       "    }\n",
       "\n",
       "    .dataframe thead th {\n",
       "        text-align: right;\n",
       "    }\n",
       "</style>\n",
       "<table border=\"1\" class=\"dataframe\">\n",
       "  <thead>\n",
       "    <tr style=\"text-align: right;\">\n",
       "      <th></th>\n",
       "      <th>Starting_Median_Salary</th>\n",
       "      <th>MidCareer_Median_Salary</th>\n",
       "      <th>MidCareer_10th_Prc_Salary</th>\n",
       "      <th>MidCareer_90th_Prc_Salary</th>\n",
       "    </tr>\n",
       "  </thead>\n",
       "  <tbody>\n",
       "    <tr>\n",
       "      <th>min</th>\n",
       "      <td>34000.0</td>\n",
       "      <td>52000.0</td>\n",
       "      <td>26700.0</td>\n",
       "      <td>96400.0</td>\n",
       "    </tr>\n",
       "    <tr>\n",
       "      <th>mean</th>\n",
       "      <td>44310.0</td>\n",
       "      <td>74786.0</td>\n",
       "      <td>43408.0</td>\n",
       "      <td>142766.0</td>\n",
       "    </tr>\n",
       "    <tr>\n",
       "      <th>max</th>\n",
       "      <td>74300.0</td>\n",
       "      <td>107000.0</td>\n",
       "      <td>71900.0</td>\n",
       "      <td>210000.0</td>\n",
       "    </tr>\n",
       "  </tbody>\n",
       "</table>\n",
       "</div>"
      ],
      "text/plain": [
       "      Starting_Median_Salary  MidCareer_Median_Salary  \\\n",
       "min                  34000.0                  52000.0   \n",
       "mean                 44310.0                  74786.0   \n",
       "max                  74300.0                 107000.0   \n",
       "\n",
       "      MidCareer_10th_Prc_Salary  MidCareer_90th_Prc_Salary  \n",
       "min                     26700.0                    96400.0  \n",
       "mean                    43408.0                   142766.0  \n",
       "max                     71900.0                   210000.0  "
      ]
     },
     "execution_count": 27,
     "metadata": {},
     "output_type": "execute_result"
    }
   ],
   "source": [
    "# Descriptive statistics on numerical columns\n",
    "\n",
    "df[['Starting_Median_Salary',\n",
    "       'MidCareer_Median_Salary', 'MidCareer_10th_Prc_Salary',\n",
    "       'MidCareer_90th_Prc_Salary']].agg([\"min\",\"mean\",\"max\"])"
   ]
  },
  {
   "cell_type": "code",
   "execution_count": 30,
   "metadata": {},
   "outputs": [
    {
     "data": {
      "text/plain": [
       "Undergraduate_Major          Physician Assistant\n",
       "Starting_Median_Salary                   74300.0\n",
       "MidCareer_Median_Salary                  91700.0\n",
       "MidCareer_10th_Prc_Salary                66400.0\n",
       "MidCareer_90th_Prc_Salary               124000.0\n",
       "Group                                       STEM\n",
       "Name: 43, dtype: object"
      ]
     },
     "execution_count": 30,
     "metadata": {},
     "output_type": "execute_result"
    }
   ],
   "source": [
    "# which major has the highest starting salary\n",
    "df.loc[df['Starting_Median_Salary'].idxmax()]"
   ]
  },
  {
   "cell_type": "code",
   "execution_count": 31,
   "metadata": {},
   "outputs": [
    {
     "data": {
      "text/plain": [
       "Undergraduate_Major          Chemical Engineering\n",
       "Starting_Median_Salary                    63200.0\n",
       "MidCareer_Median_Salary                  107000.0\n",
       "MidCareer_10th_Prc_Salary                 71900.0\n",
       "MidCareer_90th_Prc_Salary                194000.0\n",
       "Group                                        STEM\n",
       "Name: 8, dtype: object"
      ]
     },
     "execution_count": 31,
     "metadata": {},
     "output_type": "execute_result"
    }
   ],
   "source": [
    "# which major has the highest mid career salary\n",
    "df.loc[df['MidCareer_Median_Salary'].idxmax()]"
   ]
  },
  {
   "cell_type": "code",
   "execution_count": 32,
   "metadata": {},
   "outputs": [
    {
     "data": {
      "text/plain": [
       "Undergraduate_Major          Spanish\n",
       "Starting_Median_Salary       34000.0\n",
       "MidCareer_Median_Salary      53100.0\n",
       "MidCareer_10th_Prc_Salary    31000.0\n",
       "MidCareer_90th_Prc_Salary    96400.0\n",
       "Group                           HASS\n",
       "Name: 49, dtype: object"
      ]
     },
     "execution_count": 32,
     "metadata": {},
     "output_type": "execute_result"
    }
   ],
   "source": [
    "# which major has the lowest starting salary\n",
    "df.loc[df['Starting_Median_Salary'].idxmin()]"
   ]
  },
  {
   "attachments": {},
   "cell_type": "markdown",
   "metadata": {},
   "source": [
    "### Summary\n",
    "* Physician assistant has the highest starting salary (median of 74,300)\n",
    "* Spanish has the lowest starting salary (median of 34,000)\n",
    "* Chemical engineering has the highest mid-career salary (median of 107,000)\n"
   ]
  },
  {
   "attachments": {},
   "cell_type": "markdown",
   "metadata": {},
   "source": []
  },
  {
   "attachments": {},
   "cell_type": "markdown",
   "metadata": {},
   "source": [
    "### Find majors with less dispersion between low and high salaries\n",
    "This majors are low risk as everyone tends to get the same salary.\n"
   ]
  },
  {
   "cell_type": "code",
   "execution_count": 33,
   "metadata": {},
   "outputs": [
    {
     "data": {
      "text/html": [
       "<div>\n",
       "<style scoped>\n",
       "    .dataframe tbody tr th:only-of-type {\n",
       "        vertical-align: middle;\n",
       "    }\n",
       "\n",
       "    .dataframe tbody tr th {\n",
       "        vertical-align: top;\n",
       "    }\n",
       "\n",
       "    .dataframe thead th {\n",
       "        text-align: right;\n",
       "    }\n",
       "</style>\n",
       "<table border=\"1\" class=\"dataframe\">\n",
       "  <thead>\n",
       "    <tr style=\"text-align: right;\">\n",
       "      <th></th>\n",
       "      <th>Undergraduate_Major</th>\n",
       "      <th>Starting_Median_Salary</th>\n",
       "      <th>MidCareer_Median_Salary</th>\n",
       "      <th>MidCareer_10th_Prc_Salary</th>\n",
       "      <th>MidCareer_90th_Prc_Salary</th>\n",
       "      <th>Group</th>\n",
       "      <th>Salary_Range</th>\n",
       "    </tr>\n",
       "  </thead>\n",
       "  <tbody>\n",
       "    <tr>\n",
       "      <th>40</th>\n",
       "      <td>Nursing</td>\n",
       "      <td>54200.0</td>\n",
       "      <td>67000.0</td>\n",
       "      <td>47600.0</td>\n",
       "      <td>98300.0</td>\n",
       "      <td>Business</td>\n",
       "      <td>50700.0</td>\n",
       "    </tr>\n",
       "    <tr>\n",
       "      <th>43</th>\n",
       "      <td>Physician Assistant</td>\n",
       "      <td>74300.0</td>\n",
       "      <td>91700.0</td>\n",
       "      <td>66400.0</td>\n",
       "      <td>124000.0</td>\n",
       "      <td>STEM</td>\n",
       "      <td>57600.0</td>\n",
       "    </tr>\n",
       "    <tr>\n",
       "      <th>41</th>\n",
       "      <td>Nutrition</td>\n",
       "      <td>39900.0</td>\n",
       "      <td>55300.0</td>\n",
       "      <td>33900.0</td>\n",
       "      <td>99200.0</td>\n",
       "      <td>HASS</td>\n",
       "      <td>65300.0</td>\n",
       "    </tr>\n",
       "    <tr>\n",
       "      <th>49</th>\n",
       "      <td>Spanish</td>\n",
       "      <td>34000.0</td>\n",
       "      <td>53100.0</td>\n",
       "      <td>31000.0</td>\n",
       "      <td>96400.0</td>\n",
       "      <td>HASS</td>\n",
       "      <td>65400.0</td>\n",
       "    </tr>\n",
       "    <tr>\n",
       "      <th>27</th>\n",
       "      <td>Health Care Administration</td>\n",
       "      <td>38800.0</td>\n",
       "      <td>60600.0</td>\n",
       "      <td>34600.0</td>\n",
       "      <td>101000.0</td>\n",
       "      <td>Business</td>\n",
       "      <td>66400.0</td>\n",
       "    </tr>\n",
       "  </tbody>\n",
       "</table>\n",
       "</div>"
      ],
      "text/plain": [
       "           Undergraduate_Major  Starting_Median_Salary  \\\n",
       "40                     Nursing                 54200.0   \n",
       "43         Physician Assistant                 74300.0   \n",
       "41                   Nutrition                 39900.0   \n",
       "49                     Spanish                 34000.0   \n",
       "27  Health Care Administration                 38800.0   \n",
       "\n",
       "    MidCareer_Median_Salary  MidCareer_10th_Prc_Salary  \\\n",
       "40                  67000.0                    47600.0   \n",
       "43                  91700.0                    66400.0   \n",
       "41                  55300.0                    33900.0   \n",
       "49                  53100.0                    31000.0   \n",
       "27                  60600.0                    34600.0   \n",
       "\n",
       "    MidCareer_90th_Prc_Salary     Group  Salary_Range  \n",
       "40                    98300.0  Business       50700.0  \n",
       "43                   124000.0      STEM       57600.0  \n",
       "41                    99200.0      HASS       65300.0  \n",
       "49                    96400.0      HASS       65400.0  \n",
       "27                   101000.0  Business       66400.0  "
      ]
     },
     "execution_count": 33,
     "metadata": {},
     "output_type": "execute_result"
    }
   ],
   "source": [
    "df['Salary_Range'] = df['MidCareer_90th_Prc_Salary'] - df['MidCareer_10th_Prc_Salary']\n",
    "\n",
    "df.sort_values('Salary_Range').head() # show 5 majors with lowest spread (range)"
   ]
  },
  {
   "cell_type": "code",
   "execution_count": 35,
   "metadata": {},
   "outputs": [
    {
     "data": {
      "text/html": [
       "<div>\n",
       "<style scoped>\n",
       "    .dataframe tbody tr th:only-of-type {\n",
       "        vertical-align: middle;\n",
       "    }\n",
       "\n",
       "    .dataframe tbody tr th {\n",
       "        vertical-align: top;\n",
       "    }\n",
       "\n",
       "    .dataframe thead th {\n",
       "        text-align: right;\n",
       "    }\n",
       "</style>\n",
       "<table border=\"1\" class=\"dataframe\">\n",
       "  <thead>\n",
       "    <tr style=\"text-align: right;\">\n",
       "      <th></th>\n",
       "      <th>Undergraduate_Major</th>\n",
       "      <th>Starting_Median_Salary</th>\n",
       "      <th>MidCareer_Median_Salary</th>\n",
       "      <th>MidCareer_10th_Prc_Salary</th>\n",
       "      <th>MidCareer_90th_Prc_Salary</th>\n",
       "      <th>Group</th>\n",
       "      <th>Salary_Range</th>\n",
       "    </tr>\n",
       "  </thead>\n",
       "  <tbody>\n",
       "    <tr>\n",
       "      <th>17</th>\n",
       "      <td>Economics</td>\n",
       "      <td>50100.0</td>\n",
       "      <td>98600.0</td>\n",
       "      <td>50600.0</td>\n",
       "      <td>210000.0</td>\n",
       "      <td>Business</td>\n",
       "      <td>159400.0</td>\n",
       "    </tr>\n",
       "    <tr>\n",
       "      <th>22</th>\n",
       "      <td>Finance</td>\n",
       "      <td>47900.0</td>\n",
       "      <td>88300.0</td>\n",
       "      <td>47200.0</td>\n",
       "      <td>195000.0</td>\n",
       "      <td>Business</td>\n",
       "      <td>147800.0</td>\n",
       "    </tr>\n",
       "    <tr>\n",
       "      <th>37</th>\n",
       "      <td>Math</td>\n",
       "      <td>45400.0</td>\n",
       "      <td>92400.0</td>\n",
       "      <td>45200.0</td>\n",
       "      <td>183000.0</td>\n",
       "      <td>STEM</td>\n",
       "      <td>137800.0</td>\n",
       "    </tr>\n",
       "    <tr>\n",
       "      <th>36</th>\n",
       "      <td>Marketing</td>\n",
       "      <td>40800.0</td>\n",
       "      <td>79600.0</td>\n",
       "      <td>42100.0</td>\n",
       "      <td>175000.0</td>\n",
       "      <td>Business</td>\n",
       "      <td>132900.0</td>\n",
       "    </tr>\n",
       "    <tr>\n",
       "      <th>42</th>\n",
       "      <td>Philosophy</td>\n",
       "      <td>39900.0</td>\n",
       "      <td>81200.0</td>\n",
       "      <td>35500.0</td>\n",
       "      <td>168000.0</td>\n",
       "      <td>HASS</td>\n",
       "      <td>132500.0</td>\n",
       "    </tr>\n",
       "  </tbody>\n",
       "</table>\n",
       "</div>"
      ],
      "text/plain": [
       "   Undergraduate_Major  Starting_Median_Salary  MidCareer_Median_Salary  \\\n",
       "17           Economics                 50100.0                  98600.0   \n",
       "22             Finance                 47900.0                  88300.0   \n",
       "37                Math                 45400.0                  92400.0   \n",
       "36           Marketing                 40800.0                  79600.0   \n",
       "42          Philosophy                 39900.0                  81200.0   \n",
       "\n",
       "    MidCareer_10th_Prc_Salary  MidCareer_90th_Prc_Salary     Group  \\\n",
       "17                    50600.0                   210000.0  Business   \n",
       "22                    47200.0                   195000.0  Business   \n",
       "37                    45200.0                   183000.0      STEM   \n",
       "36                    42100.0                   175000.0  Business   \n",
       "42                    35500.0                   168000.0      HASS   \n",
       "\n",
       "    Salary_Range  \n",
       "17      159400.0  \n",
       "22      147800.0  \n",
       "37      137800.0  \n",
       "36      132900.0  \n",
       "42      132500.0  "
      ]
     },
     "execution_count": 35,
     "metadata": {},
     "output_type": "execute_result"
    }
   ],
   "source": [
    "# for high risk majors sort descending\n",
    "df.sort_values('Salary_Range', ascending=False).head()"
   ]
  },
  {
   "attachments": {},
   "cell_type": "markdown",
   "metadata": {},
   "source": [
    "### Summary\n",
    "* Nursing is the lowest risk major (lowest spread)\n",
    "* Economics is the highest risk major (highest spread)\n"
   ]
  },
  {
   "attachments": {},
   "cell_type": "markdown",
   "metadata": {},
   "source": [
    "### Grouping and Pivoting Data\n"
   ]
  },
  {
   "cell_type": "code",
   "execution_count": 42,
   "metadata": {},
   "outputs": [
    {
     "data": {
      "text/html": [
       "<div>\n",
       "<style scoped>\n",
       "    .dataframe tbody tr th:only-of-type {\n",
       "        vertical-align: middle;\n",
       "    }\n",
       "\n",
       "    .dataframe tbody tr th {\n",
       "        vertical-align: top;\n",
       "    }\n",
       "\n",
       "    .dataframe thead th {\n",
       "        text-align: right;\n",
       "    }\n",
       "</style>\n",
       "<table border=\"1\" class=\"dataframe\">\n",
       "  <thead>\n",
       "    <tr style=\"text-align: right;\">\n",
       "      <th></th>\n",
       "      <th>Starting_Median_Salary</th>\n",
       "      <th>MidCareer_Median_Salary</th>\n",
       "      <th>Salary_Range</th>\n",
       "    </tr>\n",
       "    <tr>\n",
       "      <th>Group</th>\n",
       "      <th></th>\n",
       "      <th></th>\n",
       "      <th></th>\n",
       "    </tr>\n",
       "  </thead>\n",
       "  <tbody>\n",
       "    <tr>\n",
       "      <th>Business</th>\n",
       "      <td>44,633.33</td>\n",
       "      <td>75,083.33</td>\n",
       "      <td>103,958.33</td>\n",
       "    </tr>\n",
       "    <tr>\n",
       "      <th>HASS</th>\n",
       "      <td>37,186.36</td>\n",
       "      <td>62,968.18</td>\n",
       "      <td>95,218.18</td>\n",
       "    </tr>\n",
       "    <tr>\n",
       "      <th>STEM</th>\n",
       "      <td>53,862.50</td>\n",
       "      <td>90,812.50</td>\n",
       "      <td>101,600.00</td>\n",
       "    </tr>\n",
       "  </tbody>\n",
       "</table>\n",
       "</div>"
      ],
      "text/plain": [
       "          Starting_Median_Salary  MidCareer_Median_Salary  Salary_Range\n",
       "Group                                                                  \n",
       "Business               44,633.33                75,083.33    103,958.33\n",
       "HASS                   37,186.36                62,968.18     95,218.18\n",
       "STEM                   53,862.50                90,812.50    101,600.00"
      ]
     },
     "execution_count": 42,
     "metadata": {},
     "output_type": "execute_result"
    }
   ],
   "source": [
    "pd.options.display.float_format = '{:,.2f}'.format \n",
    "df[['Group', 'Starting_Median_Salary', 'MidCareer_Median_Salary', 'Salary_Range']].groupby('Group').mean()"
   ]
  },
  {
   "cell_type": "code",
   "execution_count": null,
   "metadata": {},
   "outputs": [],
   "source": []
  }
 ],
 "metadata": {
  "kernelspec": {
   "display_name": "datasci",
   "language": "python",
   "name": "python3"
  },
  "language_info": {
   "codemirror_mode": {
    "name": "ipython",
    "version": 3
   },
   "file_extension": ".py",
   "mimetype": "text/x-python",
   "name": "python",
   "nbconvert_exporter": "python",
   "pygments_lexer": "ipython3",
   "version": "3.11.3"
  },
  "orig_nbformat": 4
 },
 "nbformat": 4,
 "nbformat_minor": 2
}
